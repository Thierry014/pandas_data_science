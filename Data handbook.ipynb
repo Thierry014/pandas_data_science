{
 "cells": [
  {
   "cell_type": "code",
   "execution_count": null,
   "id": "a179e556",
   "metadata": {},
   "outputs": [],
   "source": [
    "import os\n",
    "import pandas as pd\n",
    "import numpy as np\n",
    "import matplotlib.pyplot as plt\n",
    "import seaborn as sns\n",
    "%matplotlib inline"
   ]
  },
  {
   "cell_type": "code",
   "execution_count": null,
   "id": "6faa88d5",
   "metadata": {},
   "outputs": [],
   "source": [
    "# Process to deal with data \n",
    "\n",
    "# 1. Read data \n",
    "# 2. Preprocess and clean data \n",
    "# 3. analyze and Visualize data\n",
    "# 4. Modelling (Machine learning) \n",
    "# 5. Prediction \n"
   ]
  },
  {
   "cell_type": "code",
   "execution_count": null,
   "id": "07b631f6",
   "metadata": {},
   "outputs": [],
   "source": [
    "# 1.Read Data\n",
    "\n",
    "# get data from csv file\n",
    "df = pd.read_csv('tt.csv') \n",
    "\n",
    "# data size, column name, colunm data category\n",
    "df.info()\n",
    "\n",
    "# mean, std, 25% ,75% of each colunm\n",
    "df.describe()\n",
    "\n",
    "df.head()"
   ]
  },
  {
   "cell_type": "code",
   "execution_count": null,
   "id": "4757d967",
   "metadata": {},
   "outputs": [],
   "source": [
    "# 2. preprocess data\n",
    "\n",
    "# find null value (2 ways)\n",
    "pd.isna(df).sum()\n",
    "df.isnull().sum()\n",
    "\n",
    "# fill null value\n",
    "# a-( based on median)\n",
    "df['Age'].replace(np.nan,df['Age'].median(),inplace=True)\n",
    "df['Age'] = df['Age'].fillna(df.groupby('Pclass').Age.transform('median'))\n",
    "\n",
    "# b-(based on max value)\n",
    "# find the max value's col-value\n",
    "# get value .idxmax(), get max counts  .max()\n",
    "df.Embarked.value_counts().max()\n",
    "df.Embarked.value_counts().idxmax()\n",
    "\n",
    "df['Embarked'].replace(np.nan,df.Embarked.value_counts().idxmax(), inplace=True)\n",
    "df.Embarked = df.Embarked.fillna('S')\n",
    "\n",
    "# drop useless data\n",
    "df_test_drop = df.drop['Age']"
   ]
  },
  {
   "cell_type": "code",
   "execution_count": null,
   "id": "7bbfb6b9",
   "metadata": {},
   "outputs": [],
   "source": []
  },
  {
   "cell_type": "code",
   "execution_count": null,
   "id": "b22b1570",
   "metadata": {},
   "outputs": [],
   "source": [
    "# 3. analysis and visualize data\n",
    "# relationship => \n",
    "# barchart, heatmap, scatterplot, countplot\n",
    "\n",
    "# distribution => \n",
    "# boxplot\n",
    "\n",
    "\n",
    "# trends => "
   ]
  },
  {
   "cell_type": "code",
   "execution_count": 51,
   "id": "70c2e49f",
   "metadata": {},
   "outputs": [
    {
     "data": {
      "text/plain": [
       "<AxesSubplot:xlabel='Embarked', ylabel='count'>"
      ]
     },
     "execution_count": 51,
     "metadata": {},
     "output_type": "execute_result"
    },
    {
     "data": {
      "image/png": "[encoded data removed]",
      "text/plain": [
       "<Figure size 432x288 with 1 Axes>"
      ]
     },
     "metadata": {
      "needs_background": "light"
     },
     "output_type": "display_data"
    }
   ],
   "source": [
    "# Relationship \n",
    "# countplot to see the relation between target data and result data\n",
    "# (count hue的值, 适合col中的值就2-3个group =>0,1 或者 1-3 )\n",
    "sns.countplot(data = df, x=df.Pclass, hue=df.Survived)\n",
    "#customized label =>use set()\n",
    "# sns.countplot(data = df, x=df.Pclass, hue=df.Survived).set(ylabel='num of people')\n",
    "sns.countplot(data = df, x=df.Sex, hue=df.Survived)\n",
    "sns.countplot(data = df, x=df.Embarked, hue=df.Survived)"
   ]
  },
  {
   "cell_type": "code",
   "execution_count": null,
   "id": "a42ead4b",
   "metadata": {},
   "outputs": [],
   "source": [
    "# barplot"
   ]
  },
  {
   "cell_type": "code",
   "execution_count": 49,
   "id": "61315623",
   "metadata": {},
   "outputs": [
    {
     "data": {
      "text/plain": [
       "<AxesSubplot:xlabel='Survived', ylabel='Age'>"
      ]
     },
     "execution_count": 49,
     "metadata": {},
     "output_type": "execute_result"
    },
    {
     "data": {
      "image/png": "[encoded data removed]",
      "text/plain": [
       "<Figure size 432x288 with 1 Axes>"
      ]
     },
     "metadata": {
      "needs_background": "light"
     },
     "output_type": "display_data"
    }
   ],
   "source": [
    "# distribution \n",
    "# boxplot\n",
    "sns.boxplot(data=df, x=df.Survived, y=df.Age)"
   ]
  },
  {
   "cell_type": "code",
   "execution_count": null,
   "id": "34e70733",
   "metadata": {},
   "outputs": [],
   "source": [
    "# 4 Data modelling \n",
    "\n",
    "# split data => X:trainning data without result , Y:result data \n",
    "# Feature scaling by StandardScaler (make data between -1 to 1)"
   ]
  }
 ],
 "metadata": {
  "kernelspec": {
   "display_name": "Python 3",
   "language": "python",
   "name": "python3"
  },
  "language_info": {
   "codemirror_mode": {
    "name": "ipython",
    "version": 3
   },
   "file_extension": ".py",
   "mimetype": "text/x-python",
   "name": "python",
   "nbconvert_exporter": "python",
   "pygments_lexer": "ipython3",
   "version": "3.9.1"
  }
 },
 "nbformat": 4,
 "nbformat_minor": 5
}
